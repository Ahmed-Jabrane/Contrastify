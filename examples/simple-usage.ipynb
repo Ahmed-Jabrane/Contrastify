{
 "cells": [
  {
   "cell_type": "code",
   "execution_count": 1,
   "metadata": {},
   "outputs": [],
   "source": [
    "from contrastify import compute_contrast, check_wcag_norms\n",
    "from contrastify.utils import hex_to_rgb"
   ]
  },
  {
   "cell_type": "code",
   "execution_count": 2,
   "metadata": {},
   "outputs": [
    {
     "name": "stdout",
     "output_type": "stream",
     "text": [
      "Contrast Ratio: 21.00\n"
     ]
    }
   ],
   "source": [
    "color1 = hex_to_rgb(\"#FFFFFF\")  # White\n",
    "color2 = hex_to_rgb(\"#000000\")  # Black\n",
    "\n",
    "contrast_ratio = compute_contrast(color1, color2)\n",
    "print(f\"Contrast Ratio: {contrast_ratio:.2f}\")\n"
   ]
  },
  {
   "cell_type": "code",
   "execution_count": 3,
   "metadata": {},
   "outputs": [
    {
     "name": "stdout",
     "output_type": "stream",
     "text": [
      "The contrast ratio meets the AA criteria.\n",
      "The contrast ratio meets the AAA criteria.\n"
     ]
    }
   ],
   "source": [
    "wcag_results = check_wcag_norms(contrast_ratio)\n",
    "\n",
    "for norm, meets_criteria in wcag_results.items():\n",
    "    status = \"meets\" if meets_criteria else \"does not meet\"\n",
    "    print(f\"The contrast ratio {status} the {norm} criteria.\")\n"
   ]
  },
  {
   "cell_type": "code",
   "execution_count": null,
   "metadata": {},
   "outputs": [],
   "source": []
  }
 ],
 "metadata": {
  "kernelspec": {
   "display_name": "Python 3",
   "language": "python",
   "name": "python3"
  },
  "language_info": {
   "codemirror_mode": {
    "name": "ipython",
    "version": 3
   },
   "file_extension": ".py",
   "mimetype": "text/x-python",
   "name": "python",
   "nbconvert_exporter": "python",
   "pygments_lexer": "ipython3",
   "version": "3.8.2"
  },
  "orig_nbformat": 4
 },
 "nbformat": 4,
 "nbformat_minor": 2
}
