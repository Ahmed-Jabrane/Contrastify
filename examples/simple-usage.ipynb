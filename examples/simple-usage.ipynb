{
 "cells": [
  {
   "cell_type": "code",
   "execution_count": 5,
   "metadata": {},
   "outputs": [],
   "source": [
    "from contrastify import compute_contrast, check_wcag_norms\n",
    "from contrastify.utils import hex_to_rgb\n",
    "from contrastify.utils import generate_shades, display_color_palette\n"
   ]
  },
  {
   "cell_type": "code",
   "execution_count": 10,
   "metadata": {},
   "outputs": [
    {
     "name": "stdout",
     "output_type": "stream",
     "text": [
      "Contrast Ratio: 5.38\n"
     ]
    }
   ],
   "source": [
    "color1 = hex_to_rgb(\"#FFFFFF\")  # White\n",
    "color2 =  (54, 85, 255)  # Blueberry\n",
    "\n",
    "contrast_ratio = compute_contrast(color1, color2)\n",
    "print(f\"Contrast Ratio: {contrast_ratio:.2f}\")\n"
   ]
  },
  {
   "cell_type": "code",
   "execution_count": 11,
   "metadata": {},
   "outputs": [
    {
     "name": "stdout",
     "output_type": "stream",
     "text": [
      "The contrast ratio meets the AA criteria.\n",
      "The contrast ratio does not meet the AAA criteria.\n"
     ]
    }
   ],
   "source": [
    "wcag_results = check_wcag_norms(contrast_ratio)\n",
    "\n",
    "for norm, meets_criteria in wcag_results.items():\n",
    "    status = \"meets\" if meets_criteria else \"does not meet\"\n",
    "    print(f\"The contrast ratio {status} the {norm} criteria.\")\n"
   ]
  },
  {
   "cell_type": "code",
   "execution_count": 12,
   "metadata": {},
   "outputs": [
    {
     "data": {
      "image/png": "[encoded data removed]",
      "text/plain": [
       "<Figure size 200x550 with 1 Axes>"
      ]
     },
     "metadata": {},
     "output_type": "display_data"
    }
   ],
   "source": [
    "\n",
    "# Generate shades for a base color\n",
    "base_color = (54, 85, 255)  # Example RGB color\n",
    "shades = generate_shades(base_color, steps=10, color_name=\"blueberry\")\n",
    "\n",
    "# Optional: Display the shades\n",
    "display_color_palette(shades)\n"
   ]
  },
  {
   "cell_type": "code",
   "execution_count": null,
   "metadata": {},
   "outputs": [],
   "source": []
  }
 ],
 "metadata": {
  "kernelspec": {
   "display_name": "Python 3",
   "language": "python",
   "name": "python3"
  },
  "language_info": {
   "codemirror_mode": {
    "name": "ipython",
    "version": 3
   },
   "file_extension": ".py",
   "mimetype": "text/x-python",
   "name": "python",
   "nbconvert_exporter": "python",
   "pygments_lexer": "ipython3",
   "version": "3.10.0"
  },
  "orig_nbformat": 4
 },
 "nbformat": 4,
 "nbformat_minor": 2
}
